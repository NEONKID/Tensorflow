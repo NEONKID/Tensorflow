{
 "cells": [
  {
   "cell_type": "code",
   "execution_count": 4,
   "metadata": {
    "collapsed": false
   },
   "outputs": [
    {
     "name": "stdout",
     "output_type": "stream",
     "text": [
      "x = 3 이고 y = 5\n",
      "위 값을 합하면... 8\n",
      "위 값을 곱하면... 15\n"
     ]
    }
   ],
   "source": [
    "# -*- coding: utf-8 -*-\n",
    "import tensorflow as tf\n",
    "\n",
    "x = tf.constant(3)\n",
    "y = tf.constant(5)\n",
    "\n",
    "'''\n",
    "with문을 사용해서, 굳이 sess 변수를 사용하지 않아도, \n",
    "z 멤버를 사용하지 않아도 다양한 방법으로 출력할 수 있음\n",
    "'''\n",
    "with tf.Session() as sess:\n",
    "    print (\"x = 3 이고 y = 5\") # 그냥 문자열,,\n",
    "    print (\"위 값을 합하면... %i\" % sess.run(x+y))\n",
    "    print (\"위 값을 곱하면... %i\" % sess.run(x*y))"
   ]
  },
  {
   "cell_type": "code",
   "execution_count": 21,
   "metadata": {
    "collapsed": false
   },
   "outputs": [
    {
     "name": "stdout",
     "output_type": "stream",
     "text": [
      "[ 0.26062369]\n"
     ]
    }
   ],
   "source": [
    "# -*- coding: utf-8 -*-\n",
    "\n",
    "import tensorflow as tf\n",
    "import numpy as np\n",
    "\n",
    "x = tf.Variable(tf.random_uniform([1], -1,1))\n",
    "\n",
    "init = tf.initialize_all_variables()\n",
    "\n",
    "with tf.Session() as sess:\n",
    "    sess.run(init)\n",
    "    print (sess.run(x))"
   ]
  }
 ],
 "metadata": {
  "kernelspec": {
   "display_name": "Python 3",
   "language": "python",
   "name": "python3"
  },
  "language_info": {
   "codemirror_mode": {
    "name": "ipython",
    "version": 3
   },
   "file_extension": ".py",
   "mimetype": "text/x-python",
   "name": "python",
   "nbconvert_exporter": "python",
   "pygments_lexer": "ipython3",
   "version": "3.5.2"
  }
 },
 "nbformat": 4,
 "nbformat_minor": 1
}
