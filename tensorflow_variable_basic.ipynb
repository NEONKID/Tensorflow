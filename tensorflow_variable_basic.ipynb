{
 "cells": [
  {
   "cell_type": "code",
   "execution_count": 2,
   "metadata": {
    "collapsed": false
   },
   "outputs": [
    {
     "name": "stdout",
     "output_type": "stream",
     "text": [
      "None\n",
      "1\n",
      "2\n",
      "3\n"
     ]
    }
   ],
   "source": [
    "# -*- coding: utf-8 -*-\n",
    "import tensorflow as tf\n",
    "\n",
    "# 변수를 선언, 그리고 0으로 초기화,,\n",
    "state = tf.Variable(0, name=\"counter\")\n",
    "\n",
    "# state 변수에 1을 더할 operation 생성,,\n",
    "one = tf.constant(1)\n",
    "new_value = tf.add(state, one)\n",
    "update = tf.assign(state, new_value)\n",
    "\n",
    "# 그래프를 사용할 경우, 처음에는 변수를 초기화 해줘야 함,,\n",
    "init_op = tf.initialize_all_variables()\n",
    "\n",
    "# 그래프를 띄우고, Operation 실행,,\n",
    "with tf.Session() as sess:\n",
    "    sess.run(init_op) # 초기화 Operation,,\n",
    "    print sess.run(init_op)\n",
    "    \n",
    "    for _ in range(3):\n",
    "        sess.run(update)\n",
    "        print sess.run(state)"
   ]
  }
 ],
 "metadata": {
  "kernelspec": {
   "display_name": "Python 2",
   "language": "python",
   "name": "python2"
  },
  "language_info": {
   "codemirror_mode": {
    "name": "ipython",
    "version": 2
   },
   "file_extension": ".py",
   "mimetype": "text/x-python",
   "name": "python",
   "nbconvert_exporter": "python",
   "pygments_lexer": "ipython2",
   "version": "2.7.12"
  }
 },
 "nbformat": 4,
 "nbformat_minor": 1
}
