{
 "cells": [
  {
   "cell_type": "markdown",
   "metadata": {},
   "source": [
    "# GradientDescent code\n",
    "\n",
    "이 코드는 GradientDescent를 사용하여 인자를 찾아내는 코드이다.\n",
    "무슨 말인지 처음에는 잘 모를 수도 있으니 코드를 보며 습득해보자.\n",
    "\n",
    "이 코드를 보기 전에, 경사하강법 알고리즘을 습득하고 있어야 한다.\n",
    "이 알고리즘은 1차 근사값을 찾기 위해 기울기를 계속 낮은 쪽으로 이동시키는\n",
    "반복 알고리즘이다.\n",
    "\n",
    "\n",
    "<img src=\"https://upload.wikimedia.org/wikipedia/commons/7/79/Gradient_descent.png\" alt=\"\" width=\"200\" height=\"200\">\n",
    "\n",
    "\n",
    "경사 하강법을 실행하는 모습, 경사가 낮아지는 쪽으로 이동하여 차례대로 를 얻는다\n",
    "\n",
    "출처: 위키백과"
   ]
  },
  {
   "cell_type": "code",
   "execution_count": 1,
   "metadata": {
    "collapsed": false
   },
   "outputs": [
    {
     "name": "stdout",
     "output_type": "stream",
     "text": [
      "0 [[ 0.16220364  0.68908304]] [ 0.01081311]\n",
      "20 [[ 0.16026118  0.32822576]] [ 0.20052963]\n",
      "40 [[ 0.12793198  0.2372244 ]] [ 0.26533619]\n",
      "60 [[ 0.11101163  0.21168195]] [ 0.2878764]\n",
      "80 [[ 0.10408032  0.20385446]] [ 0.29575199]\n",
      "100 [[ 0.10147062  0.20130929]] [ 0.29851013]\n",
      "120 [[ 0.10052308  0.20045184]] [ 0.29947719]\n",
      "140 [[ 0.10018486  0.20015727]] [ 0.29981649]\n",
      "160 [[ 0.10006511  0.20005497]] [ 0.29993555]\n",
      "180 [[ 0.10002291  0.20001926]] [ 0.29997739]\n",
      "200 [[ 0.10000804  0.20000675]] [ 0.29999205]\n"
     ]
    }
   ],
   "source": [
    "# -*- coding: utf-8 -*- \n",
    "\n",
    "import tensorflow as tf\n",
    "import numpy as np\n",
    "\n",
    "'''\n",
    "프로그램 준비 \n",
    "'''\n",
    "\n",
    "# numpy를 이용해 100개의 연습 데이터를 생성한다. (float64 --> float32)\n",
    "x_data = np.float32(np.random.rand(2,100))\n",
    "\n",
    "# LinearRegression 처럼 학습 값은 아래의 식으로...\n",
    "y_data = np.dot([0.100, 0.200], x_data) + 0.300\n",
    "\n",
    "# b는 당연하 듯 0으로 초기화\n",
    "b = tf.Variable(tf.zeros([1]))\n",
    "\n",
    "# W는 1x2 형태의 Weight 변수.. (균등 랜덤값으로 초기화)\n",
    "W = tf.Variable(tf.random_uniform([1, 2], -1.0, 1.0))\n",
    "y = tf.matmul(W, x_data) + b\n",
    "\n",
    "# 손실 함수 정의,,\n",
    "loss = tf.reduce_mean(tf.square(y - y_data))\n",
    "\n",
    "# 경사하강법으로 손실 함수 최소화,, (법칙임)\n",
    "optimizer = tf.train.GradientDescentOptimizer(0.5) # 여기서 0.5는 학습 비율,,\n",
    "\n",
    "# 학습 Operation 정의\n",
    "train = optimizer.minimize(loss)\n",
    "\n",
    "'''\n",
    "프로그램 실행\n",
    "'''\n",
    "\n",
    "# 모든 변수 초기화,,\n",
    "init = tf.initialize_all_variables()\n",
    "\n",
    "# 세션 시작,,\n",
    "sess = tf.Session()\n",
    "sess.run(init)\n",
    "\n",
    "# 200번 학습하도록 수행,,\n",
    "for step in range(0, 201):\n",
    "    sess.run(train)\n",
    "    if step % 20 == 0: # 20개씩 짜름,,\n",
    "        print (step, sess.run(W), sess.run(b))"
   ]
  }
 ],
 "metadata": {
  "kernelspec": {
   "display_name": "Python 3",
   "language": "python",
   "name": "python3"
  },
  "language_info": {
   "codemirror_mode": {
    "name": "ipython",
    "version": 3
   },
   "file_extension": ".py",
   "mimetype": "text/x-python",
   "name": "python",
   "nbconvert_exporter": "python",
   "pygments_lexer": "ipython3",
   "version": "3.5.2"
  }
 },
 "nbformat": 4,
 "nbformat_minor": 1
}
