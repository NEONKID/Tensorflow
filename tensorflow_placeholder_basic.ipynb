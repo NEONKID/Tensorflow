{
 "cells": [
  {
   "cell_type": "code",
   "execution_count": 1,
   "metadata": {
    "collapsed": false
   },
   "outputs": [
    {
     "name": "stdout",
     "output_type": "stream",
     "text": [
      "두 개 값의 합: 10\n",
      "두 개 값의 곱: 25\n"
     ]
    }
   ],
   "source": [
    "# -*- coding: utf-8 -*-\n",
    "\n",
    "import tensorflow as tf\n",
    "\n",
    "'''\n",
    "Tensorflow에는 placeholder라는 것이 존재한다.\n",
    "HTML5나 CSS를 익혀본 사람에게 placeholder라는 것은\n",
    "그저 사용자를 위한 단순한 UI/UX에 불과한데 tensorflow에서는 그렇지 않다.\n",
    "\n",
    "C 언어 혹은 C with classes(C++), Java 등의 언어에서 변수를 선언할 때는\n",
    "변수의 자료형을 먼저 알려준 후, 선언을 해야하지만 Python에서는 그렇지 않는다.\n",
    "\n",
    "물론 변수를 선언할 때는 자료형이 필요없을 수 있다. 자료형이 핗요한 것은 언제일까?\n",
    "바로, 함수에 인자값으로 사용할 때이다.\n",
    "\n",
    "'''\n",
    "# placeholder 사용법,,\n",
    "x = tf.placeholder(tf.int16)\n",
    "y = tf.placeholder(tf.int16)\n",
    "\n",
    "# Models,,\n",
    "add = tf.add(x,y)\n",
    "mul = tf.mul(x,y)\n",
    "\n",
    "'''\n",
    "자 그러면 여기서 왜 placeholder가 필요한 것일까?\n",
    "만약, 내가 직접 값을 주어주고 싶지 않고, 인자 값에 직접 \n",
    "그 값을 넣고 싶다면 이렇게 하면 된다.\n",
    "\n",
    "'''\n",
    "with tf.Session() as sess:\n",
    "    print \"두 개 값의 합: %i\" % sess.run(add, feed_dict={x:5, y:5})\n",
    "    print \"두 개 값의 곱: %i\" % sess.run(mul, feed_dict={x:5, y:5})"
   ]
  }
 ],
 "metadata": {
  "kernelspec": {
   "display_name": "Python 2",
   "language": "python",
   "name": "python2"
  },
  "language_info": {
   "codemirror_mode": {
    "name": "ipython",
    "version": 2
   },
   "file_extension": ".py",
   "mimetype": "text/x-python",
   "name": "python",
   "nbconvert_exporter": "python",
   "pygments_lexer": "ipython2",
   "version": "2.7.12"
  }
 },
 "nbformat": 4,
 "nbformat_minor": 1
}
