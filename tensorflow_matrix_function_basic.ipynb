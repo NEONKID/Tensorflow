{
 "cells": [
  {
   "cell_type": "markdown",
   "metadata": {},
   "source": [
    "# numpy matrix vs tensorflow matrix\n"
   ]
  },
  {
   "cell_type": "code",
   "execution_count": 4,
   "metadata": {
    "collapsed": false,
    "scrolled": true
   },
   "outputs": [
    {
     "name": "stdout",
     "output_type": "stream",
     "text": [
      "rowwise mean: [ 1.5  3.5  5.5]\n",
      "coluwise mean: [ 3.  4.]\n",
      "total mean: 3.5\n",
      "sum: 21\n",
      "medium value: 3.5\n"
     ]
    }
   ],
   "source": [
    "# -*- coding: utf-8 -*- \n",
    "\n",
    "import numpy as np\n",
    "\n",
    "'''\n",
    "numpy에서 사용하는 매트릭스 연산은\n",
    "다음과 같은 계산과 결과로 나타낸다.\n",
    "'''\n",
    "\n",
    "# numpy에서 사용하는 배열,,\n",
    "np_arr = np.array([[1,2],[3,4],[5,6]])\n",
    "\n",
    "# 평균 값 계산,,\n",
    "print (\"rowwise mean:\", np.mean(np_arr,1))\n",
    "print (\"coluwise mean:\", np.mean(np_arr,0))\n",
    "print (\"total mean:\", np.mean(np_arr))\n",
    "\n",
    "# 합계, 중간값 계산,,\n",
    "print (\"sum:\", np.sum(np_arr))\n",
    "print (\"medium value:\", np.median(np_arr))"
   ]
  },
  {
   "cell_type": "code",
   "execution_count": 6,
   "metadata": {
    "collapsed": false
   },
   "outputs": [
    {
     "name": "stdout",
     "output_type": "stream",
     "text": [
      "tf.reduce_mean...\n",
      "rowwise_mean:  [1 3 5]\n",
      "coluwise_mean:  [3 4]\n",
      "total mean:  3\n",
      "sum:  21\n"
     ]
    }
   ],
   "source": [
    "# -*- coding: utf-8 -*- \n",
    "\n",
    "import tensorflow as tf\n",
    "import numpy as np\n",
    "\n",
    "'''\n",
    "tensorflow에서는 operation이므로,\n",
    "역시 numpy와 다르게 operation으로 ....\n",
    "'''\n",
    "\n",
    "# tensorflow에서 배열을 사용하기 위해 numpy 사용,,\n",
    "# 다만 위에 있는 코드로 짜게 될 경우, 일반 Python과 다를게 없음,,\n",
    "np_arr = np.array([[1,2],[3,4],[5,6]])\n",
    "\n",
    "one_mean = tf.reduce_mean(np_arr,1)\n",
    "zero_mean = tf.reduce_mean(np_arr,0)\n",
    "norm_mean = tf.reduce_mean(np_arr)\n",
    "\n",
    "sum = tf.reduce_sum(np_arr)\n",
    "\n",
    "with tf.Session() as sess:\n",
    "    print (\"tf.reduce_mean...\")\n",
    "    print (\"rowwise_mean: \", sess.run(one_mean))\n",
    "    print (\"coluwise_mean: \", sess.run(zero_mean))\n",
    "    print (\"total mean: \", sess.run(norm_mean))\n",
    "    print (\"sum: \", sess.run(sum))"
   ]
  },
  {
   "cell_type": "markdown",
   "metadata": {},
   "source": [
    "확실히 tensorflow 쪽이 더 깔끔하네.... ^^;"
   ]
  },
  {
   "cell_type": "code",
   "execution_count": 7,
   "metadata": {
    "collapsed": false
   },
   "outputs": [
    {
     "name": "stdout",
     "output_type": "stream",
     "text": [
      "tf.reduce_mean...\n",
      "rowwise_mean:  [ 1.5  3.5  5.5]\n",
      "coluwise_mean:  [ 3.  4.]\n",
      "total mean:  3.5\n",
      "sum:  21.0\n"
     ]
    }
   ],
   "source": [
    "# -*- coding: utf-8 -*- \n",
    "\n",
    "import tensorflow as tf\n",
    "import numpy as np\n",
    "\n",
    "'''\n",
    "정수여서 그런가 깔끔한지 몰라도,\n",
    "그렇다면 float 값을 넣어봐야겠군....\n",
    "'''\n",
    "\n",
    "np_arr = np.array([[1., 2],[3.,4],[5.,6]])\n",
    "\n",
    "one_mean = tf.reduce_mean(np_arr,1)\n",
    "zero_mean = tf.reduce_mean(np_arr,0)\n",
    "norm_mean = tf.reduce_mean(np_arr)\n",
    "\n",
    "sum = tf.reduce_sum(np_arr)\n",
    "\n",
    "with tf.Session() as sess:\n",
    "    print (\"tf.reduce_mean...\")\n",
    "    print (\"rowwise_mean: \", sess.run(one_mean))\n",
    "    print (\"coluwise_mean: \", sess.run(zero_mean))\n",
    "    print (\"total mean: \", sess.run(norm_mean))\n",
    "    print (\"sum: \", sess.run(sum))"
   ]
  },
  {
   "cell_type": "markdown",
   "metadata": {},
   "source": [
    "ㄷㄷ 합계값까지 소숫점 찍어주는 친절한 tensorflow,,\n",
    "\n",
    "원래 Python에서 .만 붙여도 소수로 인식하지.. 그런데 가운데에 붙어 있는 .은 함정;;"
   ]
  },
  {
   "cell_type": "code",
   "execution_count": 8,
   "metadata": {
    "collapsed": false
   },
   "outputs": [
    {
     "name": "stdout",
     "output_type": "stream",
     "text": [
      "tf.reduce_mean...\n",
      "rowwise_mean:  [ 1.5  3.5  5.5]\n",
      "coluwise_mean:  [ 3.  4.]\n",
      "total mean:  3.5\n",
      "sum:  21.0\n"
     ]
    }
   ],
   "source": [
    "# -*- coding: utf-8 -*-\n",
    "\n",
    "import tensorflow as tf\n",
    "\n",
    "'''\n",
    "아이 귀찮게 뭣하러 numpy 씀.. 배열인데\n",
    "그냥 만들면 되지 ㅋ\n",
    "'''\n",
    "\n",
    "np_arr = [[1.,2],[3.,4],[5.,6]]\n",
    "\n",
    "one_mean = tf.reduce_mean(np_arr,1)\n",
    "zero_mean = tf.reduce_mean(np_arr,0)\n",
    "norm_mean = tf.reduce_mean(np_arr)\n",
    "\n",
    "sum = tf.reduce_sum(np_arr)\n",
    "\n",
    "with tf.Session() as sess:\n",
    "    print (\"tf.reduce_mean...\")\n",
    "    print (\"rowwise_mean: \", sess.run(one_mean))\n",
    "    print (\"coluwise_mean: \", sess.run(zero_mean))\n",
    "    print (\"total mean: \", sess.run(norm_mean))\n",
    "    print (\"sum: \", sess.run(sum))"
   ]
  },
  {
   "cell_type": "markdown",
   "metadata": {},
   "source": [
    "ㅋㅋㅋㅋ 스포 주의......\n",
    "\n",
    "핵빡침 ㅋㅋㅋㅋㅋ"
   ]
  }
 ],
 "metadata": {
  "kernelspec": {
   "display_name": "Python 3",
   "language": "python",
   "name": "python3"
  },
  "language_info": {
   "codemirror_mode": {
    "name": "ipython",
    "version": 3
   },
   "file_extension": ".py",
   "mimetype": "text/x-python",
   "name": "python",
   "nbconvert_exporter": "python",
   "pygments_lexer": "ipython3",
   "version": "3.5.2"
  }
 },
 "nbformat": 4,
 "nbformat_minor": 1
}
