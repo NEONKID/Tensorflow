{
 "cells": [
  {
   "cell_type": "code",
   "execution_count": 5,
   "metadata": {
    "collapsed": false
   },
   "outputs": [
    {
     "name": "stdout",
     "output_type": "stream",
     "text": [
      "1\n",
      "2\n",
      "3\n",
      "4\n",
      "5\n",
      "6\n",
      "7\n",
      "8\n",
      "9\n"
     ]
    }
   ],
   "source": [
    "# -*- coding: utf-8 -*- \n",
    "\n",
    "# Python 복습을 위해 다시금 반복문 사용법을 익힘.. (range 사용)\n",
    "\n",
    "for i in range(1,10):\n",
    "    print i"
   ]
  },
  {
   "cell_type": "code",
   "execution_count": 6,
   "metadata": {
    "collapsed": false
   },
   "outputs": [],
   "source": [
    "# -*- coding: utf-8 -*- \n",
    "\n",
    "# Tensorflow에서는 멤버를 선언할 때, constant 함수를 사용한다.\n",
    "\n",
    "import tensorflow as tf\n",
    "\n",
    "hello = tf.constant('Hello Tensorflow')\n"
   ]
  },
  {
   "cell_type": "code",
   "execution_count": 7,
   "metadata": {
    "collapsed": false
   },
   "outputs": [
    {
     "name": "stdout",
     "output_type": "stream",
     "text": [
      "Tensor(\"Const_8:0\", shape=(), dtype=string)\n"
     ]
    }
   ],
   "source": [
    "# -*- coding: utf-8 -*-\n",
    "\n",
    "# 하지만 Tensorflow는 기본 Python 언어처럼 멤버로만 가지고는 실행할 수 없다.\n",
    "\n",
    "import tensorflow as tf\n",
    "\n",
    "hello = tf.constant('Hello Tensorflow')\n",
    "\n",
    "print hello"
   ]
  },
  {
   "cell_type": "code",
   "execution_count": 8,
   "metadata": {
    "collapsed": false
   },
   "outputs": [
    {
     "name": "stdout",
     "output_type": "stream",
     "text": [
      "Hello Tensorflow\n"
     ]
    }
   ],
   "source": [
    "# -*- coding: utf-8 -*-\n",
    "\n",
    "import tensorflow as tf\n",
    "\n",
    "hello = tf.constant('Hello Tensorflow')\n",
    "\n",
    "''' \n",
    "Tensorflow에서는 멤버 또한 모두 Operation으로 동작한다. 이 말은 \n",
    "constant 등의 함수로 실행한다 하더라도 모두 멤버가 아닌 Operation이 된다라는 말이다.\n",
    "\n",
    "Operation화 하기 위해서는 Session 함수를 이용해 객체를 생성 후 실행 가능하다.\n",
    "    \n",
    "'''\n",
    "sess = tf.Session()\n",
    "\n",
    "print sess.run(hello)"
   ]
  },
  {
   "cell_type": "code",
   "execution_count": 9,
   "metadata": {
    "collapsed": false
   },
   "outputs": [
    {
     "name": "stdout",
     "output_type": "stream",
     "text": [
      "11\n"
     ]
    }
   ],
   "source": [
    "# -*- coding: utf-8 -*-\n",
    "\n",
    "import tensorflow as tf\n",
    "\n",
    "x = tf.constant(3)\n",
    "y = tf.constant(8)\n",
    "\n",
    "# 연산자를 사용할 때는 똑같이 사용하면 된다.\n",
    "z = x + y\n",
    "\n",
    "sess = tf.Session()\n",
    "\n",
    "print sess.run(z)"
   ]
  },
  {
   "cell_type": "code",
   "execution_count": 10,
   "metadata": {
    "collapsed": false
   },
   "outputs": [
    {
     "name": "stdout",
     "output_type": "stream",
     "text": [
      "[[1100 2200 3300]\n",
      " [1010 2020 3030]]\n"
     ]
    }
   ],
   "source": [
    "# -*- coding: utf-8 -*-\n",
    "\n",
    "'''\n",
    "이번엔 numpy를 사용해 간단한 응용을 해보도록 하자.\n",
    "사실 Python인데 저렇게 단순한 연산하고 끝내기 뭔가 Python 같지 않음.\n",
    "\n",
    "행렬의 덧셈을 계산시켜보자.\n",
    "하나는 일차행렬, 또 다른 하나는 이차행렬이다.\n",
    "'''\n",
    "\n",
    "import tensorflow as tf\n",
    "import numpy as np\n",
    "\n",
    "x = tf.constant([1000,2000,3000])\n",
    "y = tf.constant([[100, 200, 300], [10, 20, 30]])\n",
    "\n",
    "z = tf.add(x,y)\n",
    "\n",
    "with tf.Session() as sess:\n",
    "    print sess.run(z)"
   ]
  }
 ],
 "metadata": {
  "kernelspec": {
   "display_name": "Python 2",
   "language": "python",
   "name": "python2"
  },
  "language_info": {
   "codemirror_mode": {
    "name": "ipython",
    "version": 2
   },
   "file_extension": ".py",
   "mimetype": "text/x-python",
   "name": "python",
   "nbconvert_exporter": "python",
   "pygments_lexer": "ipython2",
   "version": "2.7.12"
  }
 },
 "nbformat": 4,
 "nbformat_minor": 1
}
