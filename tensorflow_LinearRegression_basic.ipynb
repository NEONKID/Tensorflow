{
 "cells": [
  {
   "cell_type": "markdown",
   "metadata": {},
   "source": [
    "# LinearRegression Basic,,\n",
    "\n",
    "LinearRegression에 대해 알기 전에 반드시 supervised 기법을 익혀두기 바란다."
   ]
  },
  {
   "cell_type": "code",
   "execution_count": 14,
   "metadata": {
    "collapsed": false
   },
   "outputs": [
    {
     "name": "stdout",
     "output_type": "stream",
     "text": [
      "hypothesis:  [ 5 10 15]\n",
      "y =  [5, 10, 15]\n",
      "diff:  [0 0 0]\n",
      "loss:  0\n"
     ]
    }
   ],
   "source": [
    "# -*- coding: utf-8 -*-\n",
    "\n",
    "import tensorflow as tf\n",
    "\n",
    "x_data = [1,2,3]\n",
    "y_data = [5,10,15]\n",
    "\n",
    "h = tf.constant(5)*x_data + tf.constant(0)\n",
    "diff = h - y_data\n",
    "loss = tf.reduce_mean(tf.square(diff))\n",
    "\n",
    "with tf.Session() as sess:\n",
    "    print (\"hypothesis: \", sess.run(h))\n",
    "    print (\"y = \", y_data)\n",
    "    print (\"diff: \", sess.run(diff))\n",
    "    print (\"loss: \", sess.run(loss))"
   ]
  }
 ],
 "metadata": {
  "kernelspec": {
   "display_name": "Python 3",
   "language": "python",
   "name": "python3"
  },
  "language_info": {
   "codemirror_mode": {
    "name": "ipython",
    "version": 3
   },
   "file_extension": ".py",
   "mimetype": "text/x-python",
   "name": "python",
   "nbconvert_exporter": "python",
   "pygments_lexer": "ipython3",
   "version": "3.5.2"
  }
 },
 "nbformat": 4,
 "nbformat_minor": 1
}
