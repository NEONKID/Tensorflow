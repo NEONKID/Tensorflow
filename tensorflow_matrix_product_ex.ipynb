{
 "cells": [
  {
   "cell_type": "markdown",
   "metadata": {},
   "source": [
    "## Matrix 곱셈 연산 길들이기,,\n",
    "\n",
    "tensorflow 막상 접해보니 수학적인 것들이 너무 많아 \n",
    "서둘러서 배우다 보면 다 까먹기 마련..\n",
    "\n",
    "지금은 무작위로 적고 있지만 순서를 매겨주기 전에 numpy와 matplotlib를 \n",
    "조금씩 배워나가는게 중요함"
   ]
  },
  {
   "cell_type": "code",
   "execution_count": 4,
   "metadata": {
    "collapsed": false
   },
   "outputs": [
    {
     "name": "stdout",
     "output_type": "stream",
     "text": [
      "product:  [1, 2, 3, 1, 2, 3]\n"
     ]
    }
   ],
   "source": [
    "# -*- coding: utf-8 -*-\n",
    "\n",
    "# 평범한 배열,,\n",
    "x = [1,2,3]\n",
    "\n",
    "product = 2*x\n",
    "\n",
    "print (\"product: \", product)"
   ]
  },
  {
   "cell_type": "markdown",
   "metadata": {},
   "source": [
    "배열의 곱셈은 배열끼리의 곱셈을 이야기할 수도 있겠지만.. <br />\n",
    "이렇게 배열과 정수가 만나는 곱셈에 대해서는 복사의 개념이라고 생각하는 것도\n",
    "알아둘 것. (당연한 얘기라면 죄송.....)"
   ]
  },
  {
   "cell_type": "code",
   "execution_count": 6,
   "metadata": {
    "collapsed": false
   },
   "outputs": [
    {
     "name": "stdout",
     "output_type": "stream",
     "text": [
      "product:  [2 4 6]\n"
     ]
    }
   ],
   "source": [
    "# -*- coding: utf-8 -*-\n",
    "\n",
    "import numpy as np\n",
    "\n",
    "product = 2 * np.array([1,2,3])\n",
    "\n",
    "print (\"product: \", product)"
   ]
  },
  {
   "cell_type": "markdown",
   "metadata": {},
   "source": [
    "하지만 numpy에서 * 오퍼레이션은 단순한 매트릭스의 뻥튀기가 아닌 <br />\n",
    "진짜 곱셈 연산임.... <br />\n",
    "우리가 numpy를 사용하는 이유은 바로 여기에 있음,,"
   ]
  },
  {
   "cell_type": "code",
   "execution_count": 12,
   "metadata": {
    "collapsed": false
   },
   "outputs": [
    {
     "name": "stdout",
     "output_type": "stream",
     "text": [
      "product:  [2 4 6]\n"
     ]
    }
   ],
   "source": [
    "# -*- coding: utf-8 -*-\n",
    "\n",
    "import tensorflow as tf\n",
    "\n",
    "x = [1,2,3]\n",
    "\n",
    "product = tf.constant(2)*x\n",
    "\n",
    "with tf.Session() as sess:\n",
    "    print (\"product: \", sess.run(product))"
   ]
  },
  {
   "cell_type": "markdown",
   "metadata": {},
   "source": [
    "Tensorflow에서는 numpy와 비슷하게 제공,,"
   ]
  }
 ],
 "metadata": {
  "kernelspec": {
   "display_name": "Python 3",
   "language": "python",
   "name": "python3"
  },
  "language_info": {
   "codemirror_mode": {
    "name": "ipython",
    "version": 3
   },
   "file_extension": ".py",
   "mimetype": "text/x-python",
   "name": "python",
   "nbconvert_exporter": "python",
   "pygments_lexer": "ipython3",
   "version": "3.5.2"
  }
 },
 "nbformat": 4,
 "nbformat_minor": 1
}
