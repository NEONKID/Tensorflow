{
 "cells": [
  {
   "cell_type": "code",
   "execution_count": 2,
   "metadata": {
    "collapsed": false
   },
   "outputs": [
    {
     "name": "stdout",
     "output_type": "stream",
     "text": [
      "[ 0.]\n",
      "[ 0.  0.]\n",
      "[ 0.  0.  0.]\n"
     ]
    }
   ],
   "source": [
    "# -*- coding: utf-8 -*- \n",
    "\n",
    "import tensorflow as tf\n",
    "\n",
    "'''\n",
    "이번에는 Matrix를 생성해보겠다.\n",
    "뭐 Matrix라 해서 그렇게 어려운 것은 없다.\n",
    "'''\n",
    "\n",
    "single_matrix = tf.zeros([1,])\n",
    "double_matrix = tf.zeros([2,])\n",
    "triple_matrix = tf.zeros([3,]) # 제로 매트릭스를 만들 때는 이런식으로 생성한다.\n",
    "\n",
    "with tf.Session() as sess:\n",
    "    print (sess.run(single_matrix))\n",
    "    print (sess.run(double_matrix))\n",
    "    print (sess.run(triple_matrix))"
   ]
  },
  {
   "cell_type": "code",
   "execution_count": 4,
   "metadata": {
    "collapsed": false
   },
   "outputs": [
    {
     "name": "stdout",
     "output_type": "stream",
     "text": [
      "[-0.99993992]\n",
      "[[ 0.55375862  0.9614284 ]\n",
      " [ 0.71377265  0.31454241]]\n",
      "[[ 1.29193044  1.73844147  1.69921875]\n",
      " [ 1.15893734  1.21749699  1.25023103]\n",
      " [ 1.03456771  1.92210531  1.22101986]]\n"
     ]
    }
   ],
   "source": [
    "# -*- coding: utf-8 -*- \n",
    "\n",
    "import tensorflow as tf\n",
    "\n",
    "'''\n",
    "음, 이번에는 random_uniform을 이용해보자.\n",
    "random_uniform은 균등분포에서 아무 값이나 무작위로 뽑아오는 함수다.\n",
    "'''\n",
    "\n",
    "# Parameter: 매트릭스 크기, 시작 값, 끝 값\n",
    "m1 = tf.random_uniform([1], -1,1)\n",
    "m2 = tf.random_uniform([2,2], 0,1)\n",
    "m3 = tf.random_uniform([3,3], 1,2)\n",
    "\n",
    "with tf.Session() as sess:\n",
    "    print (sess.run(m1))\n",
    "    print (sess.run(m2))\n",
    "    print (sess.run(m3))"
   ]
  },
  {
   "cell_type": "code",
   "execution_count": 5,
   "metadata": {
    "collapsed": false
   },
   "outputs": [
    {
     "name": "stdout",
     "output_type": "stream",
     "text": [
      "[[5 4]]\n",
      "[[3]\n",
      " [7]]\n",
      "[[43]]\n"
     ]
    }
   ],
   "source": [
    "# -*- coding: utf-8 -*- \n",
    "\n",
    "import tensorflow as tf\n",
    "\n",
    "'''\n",
    "constant를 사용해서 한 번 구현해보자.\n",
    "'''\n",
    "\n",
    "m1 = tf.constant([[5,4]]) # [1, 2] Matrix\n",
    "m2 = tf.constant([[3],[7]]) # [2, 1] Matrix\n",
    "\n",
    "mul = tf.matmul(m1, m2) # 곱해랏,,\n",
    "\n",
    "with tf.Session() as sess:\n",
    "    print (sess.run(m1))\n",
    "    print (sess.run(m2))\n",
    "    print (sess.run(mul))"
   ]
  }
 ],
 "metadata": {
  "kernelspec": {
   "display_name": "Python 3",
   "language": "python",
   "name": "python3"
  },
  "language_info": {
   "codemirror_mode": {
    "name": "ipython",
    "version": 3
   },
   "file_extension": ".py",
   "mimetype": "text/x-python",
   "name": "python",
   "nbconvert_exporter": "python",
   "pygments_lexer": "ipython3",
   "version": "3.5.2"
  }
 },
 "nbformat": 4,
 "nbformat_minor": 1
}
