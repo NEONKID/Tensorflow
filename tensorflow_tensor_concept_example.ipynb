{
 "cells": [
  {
   "cell_type": "code",
   "execution_count": 2,
   "metadata": {
    "collapsed": false
   },
   "outputs": [
    {
     "name": "stdout",
     "output_type": "stream",
     "text": [
      "Session Running for init_op =  None\n",
      "Session Running for var1 =  0\n",
      "var1.assign(1412) =  Tensor(\"Assign_2:0\", shape=(), dtype=int32_ref)\n",
      "Session Running for var1 =  0\n",
      "Session Running for assign_op =  1412\n",
      "Session Running var1 =  1412\n"
     ]
    }
   ],
   "source": [
    "'''\n",
    "음.. 이 부분은 Variable과 constant, 부분을\n",
    "잘 숙지한 후, 사용하는 것이 좋습니다.\n",
    "'''\n",
    "\n",
    "import tensorflow as tf\n",
    "import numpy as np\n",
    "\n",
    "var1 = tf.Variable(0, name=\"counter\")\n",
    "init_op = tf.initialize_all_variables()\n",
    "\n",
    "with tf.Session() as sess:\n",
    "    print \"Session Running for init_op = \", sess.run(init_op) # init_op tensor 실행,,\n",
    "    print \"Session Running for var1 = \", sess.run(var1) # var1 tensor 실행,,\n",
    "     \n",
    "    print \"var1.assign(1412) = \", var1.assign(1412) # 아이러니하게도 이놈은 동작을 안함,,\n",
    "    print \"Session Running for var1 = \", sess.run(var1) # 다시 var1 tensor 실행,,\n",
    "    \n",
    "    '''\n",
    "    가장 중요한 부분은 print 문을 사용해서 각 Tensor들을 실행하였는데, assign 함수를 사용해서\n",
    "    변수 값을 바꾼 \"var1.assign(1412)\"는 동작하지 않는다는 것입니다.\n",
    "    \n",
    "    왜 그러냐면, \"var1.assign(1412)\"는 tensor를 생성한다는 커맨드이기 때문입니다.\n",
    "    우리가 tensor를 생성하려면, 멤버 이름없이는 생성할 수 없기 때문에 아래와 같이 수행하면 됩니다.\n",
    "    '''\n",
    "    \n",
    "    assign_op = var1.assign(1412)\n",
    "    print \"Session Running for assign_op = \", sess.run(assign_op)\n",
    "    print \"Session Running var1 = \", sess.run(var1)"
   ]
  }
 ],
 "metadata": {
  "kernelspec": {
   "display_name": "Python 2",
   "language": "python",
   "name": "python2"
  },
  "language_info": {
   "codemirror_mode": {
    "name": "ipython",
    "version": 2
   },
   "file_extension": ".py",
   "mimetype": "text/x-python",
   "name": "python",
   "nbconvert_exporter": "python",
   "pygments_lexer": "ipython2",
   "version": "2.7.12"
  }
 },
 "nbformat": 4,
 "nbformat_minor": 1
}
